{
 "cells": [
  {
   "cell_type": "markdown",
   "metadata": {
    "tags": []
   },
   "source": [
    "# **Statistical inference project**"
   ]
  },
  {
   "cell_type": "code",
   "execution_count": null,
   "metadata": {
    "tags": []
   },
   "outputs": [
    {
     "name": "stderr",
     "output_type": "stream",
     "text": [
      "UsageError: Cell magic `%%r` not found.\n"
     ]
    }
   ],
   "source": [
    "library(cowplot)\n",
    "library(datateachr)\n",
    "library(digest)\n",
    "library(infer)\n",
    "library(repr)\n",
    "library(taxyvr)\n",
    "library(tidyverse)\n",
    "library(dplyr)"
   ]
  },
  {
   "cell_type": "markdown",
   "metadata": {},
   "source": [
    "**Title: Comparing life expectancy between workers and non-workers.**"
   ]
  },
  {
   "cell_type": "markdown",
   "metadata": {},
   "source": [
    "**Introduction** ***Edit as needed*** t"
   ]
  },
  {
   "cell_type": "markdown",
   "metadata": {},
   "source": [
    "Historically, it is known that long work hours causes stress, and stress decreases health by introducing symptoms such as depression, anxiety, and poor sleep. (Betterhealth, 2012). We are interested in finding if more work leads to decreased life expectancy. Our response variable will be average life expectancy and our scale parameter will be standard deviation and not standard error because we have access to all the data. The dataset used for this analysis will be called healthy_lifestyle_city_2021.csv. This dataset includes info about 44 cities and were compared using 11 metrics. This dataset originated by many non-profit organizations, but was put together at the end by Lenstore, a for-profit company.\n",
    "\n",
    "This dataset has 12 columns, but we will only need the name of the city name, the happiness level and the annual average hours worked. We will split the dataset into 2 groups, workers and non-workers. Workers will have average annual work hours to be >50 percentile of this dataset and the non-workers will have annual average work hours <50 percentile."
   ]
  },
  {
   "cell_type": "markdown",
   "metadata": {},
   "source": [
    "**Preliminary Results** ***Edit as needed*** mom"
   ]
  },
  {
   "cell_type": "markdown",
   "metadata": {},
   "source": [
    "Our data can be read from the web. We will do that then clean up the data."
   ]
  },
  {
   "cell_type": "code",
   "execution_count": null,
   "metadata": {
    "tags": []
   },
   "outputs": [
    {
     "data": {
      "text/html": [
       "<table class=\"dataframe\">\n",
       "<caption>A data.frame: 6 × 12</caption>\n",
       "<thead>\n",
       "\t<tr><th></th><th scope=col>City</th><th scope=col>Rank</th><th scope=col>Sunshine.hours.City.</th><th scope=col>Cost.of.a.bottle.of.water.City.</th><th scope=col>Obesity.levels.Country.</th><th scope=col>Life.expectancy.years...Country.</th><th scope=col>Pollution.Index.score...City.</th><th scope=col>Annual.avg..hours.worked</th><th scope=col>Happiness.levels.Country.</th><th scope=col>Outdoor.activities.City.</th><th scope=col>Number.of.take.out.places.City.</th><th scope=col>Cost.of.a.monthly.gym.membership.City.</th></tr>\n",
       "\t<tr><th></th><th scope=col>&lt;chr&gt;</th><th scope=col>&lt;int&gt;</th><th scope=col>&lt;chr&gt;</th><th scope=col>&lt;chr&gt;</th><th scope=col>&lt;chr&gt;</th><th scope=col>&lt;dbl&gt;</th><th scope=col>&lt;chr&gt;</th><th scope=col>&lt;chr&gt;</th><th scope=col>&lt;dbl&gt;</th><th scope=col>&lt;int&gt;</th><th scope=col>&lt;int&gt;</th><th scope=col>&lt;chr&gt;</th></tr>\n",
       "</thead>\n",
       "<tbody>\n",
       "\t<tr><th scope=row>1</th><td>Amsterdam </td><td>1</td><td>1858</td><td>£1.92</td><td>20.40%</td><td>81.2</td><td>30.93</td><td>1434</td><td>7.44</td><td>422</td><td>1048</td><td>£34.90</td></tr>\n",
       "\t<tr><th scope=row>2</th><td>Sydney    </td><td>2</td><td>2636</td><td>£1.48</td><td>29.00%</td><td>82.1</td><td>26.86</td><td>1712</td><td>7.22</td><td>406</td><td>1103</td><td>£41.66</td></tr>\n",
       "\t<tr><th scope=row>3</th><td>Vienna    </td><td>3</td><td>1884</td><td>£1.94</td><td>20.10%</td><td>81.0</td><td>17.33</td><td>1501</td><td>7.29</td><td>132</td><td>1008</td><td>£25.74</td></tr>\n",
       "\t<tr><th scope=row>4</th><td>Stockholm </td><td>4</td><td>1821</td><td>£1.72</td><td>20.60%</td><td>81.8</td><td>19.63</td><td>1452</td><td>7.35</td><td>129</td><td> 598</td><td>£37.31</td></tr>\n",
       "\t<tr><th scope=row>5</th><td>Copenhagen</td><td>5</td><td>1630</td><td>£2.19</td><td>19.70%</td><td>79.8</td><td>21.24</td><td>1380</td><td>7.64</td><td>154</td><td> 523</td><td>£32.53</td></tr>\n",
       "\t<tr><th scope=row>6</th><td>Helsinki  </td><td>6</td><td>1662</td><td>£1.60</td><td>22.20%</td><td>80.4</td><td>13.08</td><td>1540</td><td>7.80</td><td>113</td><td> 309</td><td>£35.23</td></tr>\n",
       "</tbody>\n",
       "</table>\n"
      ],
      "text/latex": [
       "A data.frame: 6 × 12\n",
       "\\begin{tabular}{r|llllllllllll}\n",
       "  & City & Rank & Sunshine.hours.City. & Cost.of.a.bottle.of.water.City. & Obesity.levels.Country. & Life.expectancy.years...Country. & Pollution.Index.score...City. & Annual.avg..hours.worked & Happiness.levels.Country. & Outdoor.activities.City. & Number.of.take.out.places.City. & Cost.of.a.monthly.gym.membership.City.\\\\\n",
       "  & <chr> & <int> & <chr> & <chr> & <chr> & <dbl> & <chr> & <chr> & <dbl> & <int> & <int> & <chr>\\\\\n",
       "\\hline\n",
       "\t1 & Amsterdam  & 1 & 1858 & £1.92 & 20.40\\% & 81.2 & 30.93 & 1434 & 7.44 & 422 & 1048 & £34.90\\\\\n",
       "\t2 & Sydney     & 2 & 2636 & £1.48 & 29.00\\% & 82.1 & 26.86 & 1712 & 7.22 & 406 & 1103 & £41.66\\\\\n",
       "\t3 & Vienna     & 3 & 1884 & £1.94 & 20.10\\% & 81.0 & 17.33 & 1501 & 7.29 & 132 & 1008 & £25.74\\\\\n",
       "\t4 & Stockholm  & 4 & 1821 & £1.72 & 20.60\\% & 81.8 & 19.63 & 1452 & 7.35 & 129 &  598 & £37.31\\\\\n",
       "\t5 & Copenhagen & 5 & 1630 & £2.19 & 19.70\\% & 79.8 & 21.24 & 1380 & 7.64 & 154 &  523 & £32.53\\\\\n",
       "\t6 & Helsinki   & 6 & 1662 & £1.60 & 22.20\\% & 80.4 & 13.08 & 1540 & 7.80 & 113 &  309 & £35.23\\\\\n",
       "\\end{tabular}\n"
      ],
      "text/markdown": [
       "\n",
       "A data.frame: 6 × 12\n",
       "\n",
       "| <!--/--> | City &lt;chr&gt; | Rank &lt;int&gt; | Sunshine.hours.City. &lt;chr&gt; | Cost.of.a.bottle.of.water.City. &lt;chr&gt; | Obesity.levels.Country. &lt;chr&gt; | Life.expectancy.years...Country. &lt;dbl&gt; | Pollution.Index.score...City. &lt;chr&gt; | Annual.avg..hours.worked &lt;chr&gt; | Happiness.levels.Country. &lt;dbl&gt; | Outdoor.activities.City. &lt;int&gt; | Number.of.take.out.places.City. &lt;int&gt; | Cost.of.a.monthly.gym.membership.City. &lt;chr&gt; |\n",
       "|---|---|---|---|---|---|---|---|---|---|---|---|---|\n",
       "| 1 | Amsterdam  | 1 | 1858 | £1.92 | 20.40% | 81.2 | 30.93 | 1434 | 7.44 | 422 | 1048 | £34.90 |\n",
       "| 2 | Sydney     | 2 | 2636 | £1.48 | 29.00% | 82.1 | 26.86 | 1712 | 7.22 | 406 | 1103 | £41.66 |\n",
       "| 3 | Vienna     | 3 | 1884 | £1.94 | 20.10% | 81.0 | 17.33 | 1501 | 7.29 | 132 | 1008 | £25.74 |\n",
       "| 4 | Stockholm  | 4 | 1821 | £1.72 | 20.60% | 81.8 | 19.63 | 1452 | 7.35 | 129 |  598 | £37.31 |\n",
       "| 5 | Copenhagen | 5 | 1630 | £2.19 | 19.70% | 79.8 | 21.24 | 1380 | 7.64 | 154 |  523 | £32.53 |\n",
       "| 6 | Helsinki   | 6 | 1662 | £1.60 | 22.20% | 80.4 | 13.08 | 1540 | 7.80 | 113 |  309 | £35.23 |\n",
       "\n"
      ],
      "text/plain": [
       "  City       Rank Sunshine.hours.City. Cost.of.a.bottle.of.water.City.\n",
       "1 Amsterdam  1    1858                 £1.92                          \n",
       "2 Sydney     2    2636                 £1.48                          \n",
       "3 Vienna     3    1884                 £1.94                          \n",
       "4 Stockholm  4    1821                 £1.72                          \n",
       "5 Copenhagen 5    1630                 £2.19                          \n",
       "6 Helsinki   6    1662                 £1.60                          \n",
       "  Obesity.levels.Country. Life.expectancy.years...Country.\n",
       "1 20.40%                  81.2                            \n",
       "2 29.00%                  82.1                            \n",
       "3 20.10%                  81.0                            \n",
       "4 20.60%                  81.8                            \n",
       "5 19.70%                  79.8                            \n",
       "6 22.20%                  80.4                            \n",
       "  Pollution.Index.score...City. Annual.avg..hours.worked\n",
       "1 30.93                         1434                    \n",
       "2 26.86                         1712                    \n",
       "3 17.33                         1501                    \n",
       "4 19.63                         1452                    \n",
       "5 21.24                         1380                    \n",
       "6 13.08                         1540                    \n",
       "  Happiness.levels.Country. Outdoor.activities.City.\n",
       "1 7.44                      422                     \n",
       "2 7.22                      406                     \n",
       "3 7.29                      132                     \n",
       "4 7.35                      129                     \n",
       "5 7.64                      154                     \n",
       "6 7.80                      113                     \n",
       "  Number.of.take.out.places.City. Cost.of.a.monthly.gym.membership.City.\n",
       "1 1048                            £34.90                                \n",
       "2 1103                            £41.66                                \n",
       "3 1008                            £25.74                                \n",
       "4  598                            £37.31                                \n",
       "5  523                            £32.53                                \n",
       "6  309                            £35.23                                "
      ]
     },
     "metadata": {},
     "output_type": "display_data"
    }
   ],
   "source": [
    "link <- \"https://raw.githubusercontent.com/zhong-test/data-for-class/master/healthy_lifestyle_city_2021.csv\"\n",
    "data <- read.csv(link)\n",
    "head(data)"
   ]
  },
  {
   "cell_type": "markdown",
   "metadata": {},
   "source": [
    "We will now tidy the data"
   ]
  },
  {
   "cell_type": "code",
   "execution_count": null,
   "metadata": {
    "tags": []
   },
   "outputs": [
    {
     "name": "stderr",
     "output_type": "stream",
     "text": [
      "Warning message:\n",
      "“\u001b[1m\u001b[22mThere was 1 warning in `reframe()`.\n",
      "\u001b[1m\u001b[22m\u001b[36mℹ\u001b[39m In argument: `Work = as.numeric(Annual.avg..hours.worked)`.\n",
      "Caused by warning:\n",
      "\u001b[33m!\u001b[39m NAs introduced by coercion”\n"
     ]
    },
    {
     "data": {
      "text/html": [
       "<table class=\"dataframe\">\n",
       "<caption>A data.frame: 6 × 2</caption>\n",
       "<thead>\n",
       "\t<tr><th></th><th scope=col>Life</th><th scope=col>Work</th></tr>\n",
       "\t<tr><th></th><th scope=col>&lt;dbl&gt;</th><th scope=col>&lt;dbl&gt;</th></tr>\n",
       "</thead>\n",
       "<tbody>\n",
       "\t<tr><th scope=row>1</th><td>81.2</td><td>1434</td></tr>\n",
       "\t<tr><th scope=row>2</th><td>82.1</td><td>1712</td></tr>\n",
       "\t<tr><th scope=row>3</th><td>81.0</td><td>1501</td></tr>\n",
       "\t<tr><th scope=row>4</th><td>81.8</td><td>1452</td></tr>\n",
       "\t<tr><th scope=row>5</th><td>79.8</td><td>1380</td></tr>\n",
       "\t<tr><th scope=row>6</th><td>80.4</td><td>1540</td></tr>\n",
       "</tbody>\n",
       "</table>\n"
      ],
      "text/latex": [
       "A data.frame: 6 × 2\n",
       "\\begin{tabular}{r|ll}\n",
       "  & Life & Work\\\\\n",
       "  & <dbl> & <dbl>\\\\\n",
       "\\hline\n",
       "\t1 & 81.2 & 1434\\\\\n",
       "\t2 & 82.1 & 1712\\\\\n",
       "\t3 & 81.0 & 1501\\\\\n",
       "\t4 & 81.8 & 1452\\\\\n",
       "\t5 & 79.8 & 1380\\\\\n",
       "\t6 & 80.4 & 1540\\\\\n",
       "\\end{tabular}\n"
      ],
      "text/markdown": [
       "\n",
       "A data.frame: 6 × 2\n",
       "\n",
       "| <!--/--> | Life &lt;dbl&gt; | Work &lt;dbl&gt; |\n",
       "|---|---|---|\n",
       "| 1 | 81.2 | 1434 |\n",
       "| 2 | 82.1 | 1712 |\n",
       "| 3 | 81.0 | 1501 |\n",
       "| 4 | 81.8 | 1452 |\n",
       "| 5 | 79.8 | 1380 |\n",
       "| 6 | 80.4 | 1540 |\n",
       "\n"
      ],
      "text/plain": [
       "  Life Work\n",
       "1 81.2 1434\n",
       "2 82.1 1712\n",
       "3 81.0 1501\n",
       "4 81.8 1452\n",
       "5 79.8 1380\n",
       "6 80.4 1540"
      ]
     },
     "metadata": {},
     "output_type": "display_data"
    }
   ],
   "source": [
    "tidy <- data %>% \n",
    "        select(City, `Life.expectancy.years...Country.`,`Annual.avg..hours.worked`) %>% \n",
    "        reframe(Life = `Life.expectancy.years...Country.`, \n",
    "                  Work = as.numeric(`Annual.avg..hours.worked`)) %>% # renamed columns \n",
    "        filter(!is.na(Work)) \n",
    "head(tidy)"
   ]
  },
  {
   "cell_type": "markdown",
   "metadata": {},
   "source": [
    "We will now separate the cities into 2 groups, high work and low work. We can visualize this first."
   ]
  },
  {
   "cell_type": "code",
   "execution_count": null,
   "metadata": {
    "tags": []
   },
   "outputs": [
    {
     "data": {
      "text/html": [
       "1686"
      ],
      "text/latex": [
       "1686"
      ],
      "text/markdown": [
       "1686"
      ],
      "text/plain": [
       "[1] 1686"
      ]
     },
     "metadata": {},
     "output_type": "display_data"
    },
    {
     "data": {
      "text/html": [
       "<table class=\"dataframe\">\n",
       "<caption>A data.frame: 6 × 3</caption>\n",
       "<thead>\n",
       "\t<tr><th></th><th scope=col>Life</th><th scope=col>Work</th><th scope=col>hi_work</th></tr>\n",
       "\t<tr><th></th><th scope=col>&lt;dbl&gt;</th><th scope=col>&lt;dbl&gt;</th><th scope=col>&lt;lgl&gt;</th></tr>\n",
       "</thead>\n",
       "<tbody>\n",
       "\t<tr><th scope=row>1</th><td>81.2</td><td>1434</td><td>FALSE</td></tr>\n",
       "\t<tr><th scope=row>2</th><td>82.1</td><td>1712</td><td> TRUE</td></tr>\n",
       "\t<tr><th scope=row>3</th><td>81.0</td><td>1501</td><td>FALSE</td></tr>\n",
       "\t<tr><th scope=row>4</th><td>81.8</td><td>1452</td><td>FALSE</td></tr>\n",
       "\t<tr><th scope=row>5</th><td>79.8</td><td>1380</td><td>FALSE</td></tr>\n",
       "\t<tr><th scope=row>6</th><td>80.4</td><td>1540</td><td>FALSE</td></tr>\n",
       "</tbody>\n",
       "</table>\n"
      ],
      "text/latex": [
       "A data.frame: 6 × 3\n",
       "\\begin{tabular}{r|lll}\n",
       "  & Life & Work & hi\\_work\\\\\n",
       "  & <dbl> & <dbl> & <lgl>\\\\\n",
       "\\hline\n",
       "\t1 & 81.2 & 1434 & FALSE\\\\\n",
       "\t2 & 82.1 & 1712 &  TRUE\\\\\n",
       "\t3 & 81.0 & 1501 & FALSE\\\\\n",
       "\t4 & 81.8 & 1452 & FALSE\\\\\n",
       "\t5 & 79.8 & 1380 & FALSE\\\\\n",
       "\t6 & 80.4 & 1540 & FALSE\\\\\n",
       "\\end{tabular}\n"
      ],
      "text/markdown": [
       "\n",
       "A data.frame: 6 × 3\n",
       "\n",
       "| <!--/--> | Life &lt;dbl&gt; | Work &lt;dbl&gt; | hi_work &lt;lgl&gt; |\n",
       "|---|---|---|---|\n",
       "| 1 | 81.2 | 1434 | FALSE |\n",
       "| 2 | 82.1 | 1712 |  TRUE |\n",
       "| 3 | 81.0 | 1501 | FALSE |\n",
       "| 4 | 81.8 | 1452 | FALSE |\n",
       "| 5 | 79.8 | 1380 | FALSE |\n",
       "| 6 | 80.4 | 1540 | FALSE |\n",
       "\n"
      ],
      "text/plain": [
       "  Life Work hi_work\n",
       "1 81.2 1434 FALSE  \n",
       "2 82.1 1712  TRUE  \n",
       "3 81.0 1501 FALSE  \n",
       "4 81.8 1452 FALSE  \n",
       "5 79.8 1380 FALSE  \n",
       "6 80.4 1540 FALSE  "
      ]
     },
     "metadata": {},
     "output_type": "display_data"
    }
   ],
   "source": [
    "# Finding median for work hours. This will be needed for separting the cities into 2 groups\n",
    "median <- median(tidy$Work)\n",
    "median\n",
    "\n",
    "# separating the cities into 2 groups, evenly divided\n",
    "group <- tidy %>%\n",
    "    mutate(hi_work = Work > median)\n",
    "head(group)"
   ]
  },
  {
   "cell_type": "markdown",
   "metadata": {},
   "source": [
    "We now compare the estimates for expected life age."
   ]
  },
  {
   "cell_type": "code",
   "execution_count": null,
   "metadata": {
    "tags": []
   },
   "outputs": [
    {
     "data": {
      "text/html": [
       "78.9333333333333"
      ],
      "text/latex": [
       "78.9333333333333"
      ],
      "text/markdown": [
       "78.9333333333333"
      ],
      "text/plain": [
       "[1] 78.93333"
      ]
     },
     "metadata": {},
     "output_type": "display_data"
    },
    {
     "data": {
      "text/html": [
       "81.5222222222222"
      ],
      "text/latex": [
       "81.5222222222222"
      ],
      "text/markdown": [
       "81.5222222222222"
      ],
      "text/plain": [
       "[1] 81.52222"
      ]
     },
     "metadata": {},
     "output_type": "display_data"
    }
   ],
   "source": [
    "hi_worker_life <- group %>% filter(hi_work == TRUE) %>% summarise(mean = mean(Life)) %>% pull(mean)\n",
    "lo_worker_life <- group %>% filter(hi_work == FALSE) %>% summarise(mean = mean(Life)) %>% pull(mean)\n",
    "hi_worker_life\n",
    "lo_worker_life"
   ]
  },
  {
   "cell_type": "markdown",
   "metadata": {},
   "source": [
    "Initial estimates are interesting, but this could have been from luck."
   ]
  },
  {
   "cell_type": "markdown",
   "metadata": {},
   "source": [
    "**Methods & Plan**"
   ]
  },
  {
   "cell_type": "markdown",
   "metadata": {},
   "source": [
    "**TODO**"
   ]
  },
  {
   "cell_type": "markdown",
   "metadata": {
    "tags": []
   },
   "source": [
    "Reflections:\n",
    "\n",
    "* What do you expect to find?\n",
    "We expect there to be a relationship between long work hours and decreased life expectancy. We anticipate that cities with longer work hours may have lower average life expectancies. We are essentially testing the hypothesis that increased work hours might have a negative impact on the overall health/ life expectancy of the people living in these cities. \n",
    "* What impact could such findings have?\n",
    "We know that our time on Earth is limited so if we realize that something might be negatively affecting that limited time, we would start to make lifestyle changes in hopes to counter it. The findings of this study could have significant impacts on public health, labor policies, and societal well-being. If our research shows that longer work hours might lead to reduced life expectancies, it would signify the need for us as a society and as individuals to reevaluate our approach to work-life balance and lifestyle choices. This might lead to discussions and potential policy changes regarding working hours, overtime regulations, and the importance of maintaining a healthy work-life balance. It could also raise awareness about the importance of mental and physical health, as well as work-related stress management. \n",
    "* What future questions could this lead to?\n",
    "Some possible future questions and areas of research could be: \n",
    "    - Studies on specific occupational health risks. Are certain industries or types of jobs more likely to contribute to decreased life expectancy due to long work hours? \n",
    "    - What possible strategies can be implemented to mitigate the negative effects of long work hours on health? This could include policies for work-hour limits, stress management programs, etc.\n",
    "    - Do certain cities or countries manage to maintain longer work hours without significant negative health impacts? This would help in the research for formulating better strategies for improving productivity without rising the employees’ health.\n",
    "    - Do longer work hours directly cause reduced life expectancy, or are there other contributing factors that should be considered and if so which ones?\n"
   ]
  },
  {
   "cell_type": "markdown",
   "metadata": {},
   "source": [
    "**References**"
   ]
  },
  {
   "cell_type": "markdown",
   "metadata": {},
   "source": [
    "Our data was from Lenstore and Lenstore used data from:\n",
    "    https://www.gfmag.com/global-data/non-economic-data/best-cities-to-live\n",
    "    \n",
    "    https://ourworldindata.org/obesity\n",
    "    \n",
    "    http://happyplanetindex.org/countries\n",
    "    \n",
    "    https://en.wikipedia.org/wiki/List_of_cities_by_sunshine_duration\n",
    "    \n",
    "    https://www.numbeo.com/pollution/rankings.jsp\n",
    "    \n",
    "    https://worldhappiness.report\n",
    "    \n",
    "    https://www.numbeo.com/cost-of-living\n",
    "    \n",
    "    https://worldpopulationreview.com/country-rankings/average-work-week-by-country\n",
    "    \n",
    "    https://data.oecd.org/emp/hours-worked.htm\n",
    "    \n",
    "    https://www.tripadvisor.co.uk\n",
    "    \n",
    "    \n",
    "Publications:\n",
    "\n",
    "https://www.betterhealth.vic.gov.au/health/healthyliving/work-related-stress\n",
    "\n",
    "https://www.ctpublic.org/news/2022-01-04/chronic-stress-can-reduce-lifespan-says-recent-yale-study"
   ]
  }
 ],
 "metadata": {
  "kernelspec": {
   "display_name": "Python 3 (ipykernel)",
   "language": "python",
   "name": "python3"
  },
  "language_info": {
   "codemirror_mode": {
    "name": "ipython",
    "version": 3
   },
   "file_extension": ".py",
   "mimetype": "text/x-python",
   "name": "python",
   "nbconvert_exporter": "python",
   "pygments_lexer": "ipython3",
   "version": "3.11.5"
  }
 },
 "nbformat": 4,
 "nbformat_minor": 4
}
